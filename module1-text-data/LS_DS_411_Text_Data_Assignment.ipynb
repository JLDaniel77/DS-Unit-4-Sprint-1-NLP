{
 "cells": [
  {
   "cell_type": "markdown",
   "metadata": {},
   "source": [
    "<img align=\"left\" src=\"https://lever-client-logos.s3.amazonaws.com/864372b1-534c-480e-acd5-9711f850815c-1524247202159.png\" width=200>\n",
    "<br></br>\n",
    "<br></br>\n",
    "\n",
    "# Natural Language Processing (NLP)\n",
    "## *Data Science Unit 4 Sprint 1 Assignment 1*\n",
    "\n",
    "Your goal in assignment: find the attributes of the best & worst coffee shops in the dataset. The text is fairly raw: dates in the review, extra words in the `star_rating` column, etc. You'll probably want to clean that stuff up for a better analysis. \n",
    "\n",
    "Analyze the corpus of text using text visualizations of token frequency. Try cleaning the data as much as possible. Try the following techniques: \n",
    "- Lemmatization\n",
    "- Custom stopword removal\n",
    "\n",
    "Keep in mind the attributes of good tokens. Once you have a solid baseline, layer in the star rating in your visualization(s). Keep part in this assignment - produce a write-up of the attributes of the best and worst coffee shops. Based on your analysis, what makes the best the best and the worst the worst. Use graphs and numbesr from your analysis to support your conclusions. There should be plenty of markdown cells! :coffee:"
   ]
  },
  {
   "cell_type": "code",
   "execution_count": 1,
   "metadata": {},
   "outputs": [
    {
     "data": {
      "image/jpeg": "[encoded data removed]",
      "text/html": [
       "\n",
       "        <iframe\n",
       "            width=\"400\"\n",
       "            height=\"300\"\n",
       "            src=\"https://www.youtube.com/embed/Jml7NVYm8cs\"\n",
       "            frameborder=\"0\"\n",
       "            allowfullscreen\n",
       "        ></iframe>\n",
       "        "
      ],
      "text/plain": [
       "<IPython.lib.display.YouTubeVideo at 0x22ff9ddf128>"
      ]
     },
     "execution_count": 1,
     "metadata": {},
     "output_type": "execute_result"
    }
   ],
   "source": [
    "from IPython.display import YouTubeVideo\n",
    "\n",
    "YouTubeVideo('Jml7NVYm8cs')"
   ]
  },
  {
   "cell_type": "code",
   "execution_count": 2,
   "metadata": {},
   "outputs": [
    {
     "data": {
      "text/plain": [
       "'C:\\\\Users\\\\theta\\\\Desktop\\\\Lambda School\\\\DS6\\\\unit_4_sprint_1\\\\DS-Unit-4-Sprint-1-NLP\\\\module1-text-data'"
      ]
     },
     "execution_count": 2,
     "metadata": {},
     "output_type": "execute_result"
    }
   ],
   "source": [
    "%pwd"
   ]
  },
  {
   "cell_type": "code",
   "execution_count": 123,
   "metadata": {},
   "outputs": [
    {
     "data": {
      "text/html": [
       "<div>\n",
       "<style scoped>\n",
       "    .dataframe tbody tr th:only-of-type {\n",
       "        vertical-align: middle;\n",
       "    }\n",
       "\n",
       "    .dataframe tbody tr th {\n",
       "        vertical-align: top;\n",
       "    }\n",
       "\n",
       "    .dataframe thead th {\n",
       "        text-align: right;\n",
       "    }\n",
       "</style>\n",
       "<table border=\"1\" class=\"dataframe\">\n",
       "  <thead>\n",
       "    <tr style=\"text-align: right;\">\n",
       "      <th></th>\n",
       "      <th>coffee_shop_name</th>\n",
       "      <th>full_review_text</th>\n",
       "      <th>star_rating</th>\n",
       "    </tr>\n",
       "  </thead>\n",
       "  <tbody>\n",
       "    <tr>\n",
       "      <th>0</th>\n",
       "      <td>The Factory - Cafe With a Soul</td>\n",
       "      <td>11/25/2016 1 check-in Love love loved the atm...</td>\n",
       "      <td>5.0 star rating</td>\n",
       "    </tr>\n",
       "    <tr>\n",
       "      <th>1</th>\n",
       "      <td>The Factory - Cafe With a Soul</td>\n",
       "      <td>12/2/2016 Listed in Date Night: Austin, Ambia...</td>\n",
       "      <td>4.0 star rating</td>\n",
       "    </tr>\n",
       "    <tr>\n",
       "      <th>2</th>\n",
       "      <td>The Factory - Cafe With a Soul</td>\n",
       "      <td>11/30/2016 1 check-in Listed in Brunch Spots ...</td>\n",
       "      <td>4.0 star rating</td>\n",
       "    </tr>\n",
       "    <tr>\n",
       "      <th>3</th>\n",
       "      <td>The Factory - Cafe With a Soul</td>\n",
       "      <td>11/25/2016 Very cool decor! Good drinks Nice ...</td>\n",
       "      <td>2.0 star rating</td>\n",
       "    </tr>\n",
       "    <tr>\n",
       "      <th>4</th>\n",
       "      <td>The Factory - Cafe With a Soul</td>\n",
       "      <td>12/3/2016 1 check-in They are located within ...</td>\n",
       "      <td>4.0 star rating</td>\n",
       "    </tr>\n",
       "  </tbody>\n",
       "</table>\n",
       "</div>"
      ],
      "text/plain": [
       "                  coffee_shop_name  \\\n",
       "0  The Factory - Cafe With a Soul    \n",
       "1  The Factory - Cafe With a Soul    \n",
       "2  The Factory - Cafe With a Soul    \n",
       "3  The Factory - Cafe With a Soul    \n",
       "4  The Factory - Cafe With a Soul    \n",
       "\n",
       "                                    full_review_text        star_rating  \n",
       "0   11/25/2016 1 check-in Love love loved the atm...   5.0 star rating   \n",
       "1   12/2/2016 Listed in Date Night: Austin, Ambia...   4.0 star rating   \n",
       "2   11/30/2016 1 check-in Listed in Brunch Spots ...   4.0 star rating   \n",
       "3   11/25/2016 Very cool decor! Good drinks Nice ...   2.0 star rating   \n",
       "4   12/3/2016 1 check-in They are located within ...   4.0 star rating   "
      ]
     },
     "execution_count": 123,
     "metadata": {},
     "output_type": "execute_result"
    }
   ],
   "source": [
    "import pandas as pd\n",
    "\n",
    "url = \"https://raw.githubusercontent.com/LambdaSchool/DS-Unit-4-Sprint-1-NLP/master/module1-text-data/data/yelp_coffeeshop_review_data.csv\"\n",
    "\n",
    "shops = pd.read_csv(url)\n",
    "shops.head()"
   ]
  },
  {
   "cell_type": "code",
   "execution_count": 124,
   "metadata": {},
   "outputs": [
    {
     "data": {
      "text/plain": [
       "(7616, 3)"
      ]
     },
     "execution_count": 124,
     "metadata": {},
     "output_type": "execute_result"
    }
   ],
   "source": [
    "shops.shape"
   ]
  },
  {
   "cell_type": "code",
   "execution_count": 125,
   "metadata": {},
   "outputs": [
    {
     "data": {
      "text/plain": [
       "' 11/25/2016 1 check-in Love love loved the atmosphere! Every corner of the coffee shop had its own style, and there were swings!!! I ordered the matcha latte, and it was muy fantastico! Ordering and getting my drink were pretty streamlined. I ordered on an iPad, which included all beverage selections that ranged from coffee to wine, desired level of sweetness, and a checkout system. I got my latte within minutes!  I was hoping for a typical heart or feather on my latte, but found myself listing out all the possibilities of what the art may be. Any ideas? '"
      ]
     },
     "execution_count": 125,
     "metadata": {},
     "output_type": "execute_result"
    }
   ],
   "source": [
    "# Inspect first review\n",
    "shops['full_review_text'][0]"
   ]
  },
  {
   "cell_type": "code",
   "execution_count": 126,
   "metadata": {},
   "outputs": [],
   "source": [
    "def clean(df):\n",
    "    \"\"\"Function to clean data for NLP analysis\"\"\"\n",
    "    \n",
    "    # Remove leading and trailing white space\n",
    "    df['full_review_text'] = df['full_review_text'].apply(lambda x: x.strip())\n",
    "    \n",
    "    # Move dates in reviews to new column\n",
    "    df['review_date'] = df['full_review_text'].apply(lambda x: x.split()[0])\n",
    "    \n",
    "    # Remove dates from review text\n",
    "    df['full_review_text'] = df['full_review_text'].apply(lambda x: ' '.join(x.split()[1:]))\n",
    "    \n",
    "    # Add new column to show number of check-ins\n",
    "    df['check_ins'] = df['full_review_text'].apply(lambda x: x.split()[0]\n",
    "                                                  if x.split()[1] == 'check-in'\n",
    "                                                  or x.split()[1] == 'check-ins'\n",
    "                                                  else 0)\n",
    "    \n",
    "    # Remove check-ins from review text\n",
    "    df['full_review_text'] = df['full_review_text'].apply(lambda x: ' '.join(x.split()[2:])\n",
    "                                                         if x.split()[1] == 'check-in'\n",
    "                                                         or x.split()[1] == 'check-ins'\n",
    "                                                         else x)\n",
    "    \n",
    "    # Convert review text to lowercase\n",
    "    df['full_review_text'] = df['full_review_text'].apply(lambda x: x.lower())\n",
    "    \n",
    "    # Remove text from star rating and convert rating to int\n",
    "    df['star_rating'] = df['star_rating'].apply(lambda x: x.split('.')[0]).astype('int')\n",
    "    \n",
    "    return df"
   ]
  },
  {
   "cell_type": "code",
   "execution_count": 127,
   "metadata": {},
   "outputs": [
    {
     "data": {
      "text/html": [
       "<div>\n",
       "<style scoped>\n",
       "    .dataframe tbody tr th:only-of-type {\n",
       "        vertical-align: middle;\n",
       "    }\n",
       "\n",
       "    .dataframe tbody tr th {\n",
       "        vertical-align: top;\n",
       "    }\n",
       "\n",
       "    .dataframe thead th {\n",
       "        text-align: right;\n",
       "    }\n",
       "</style>\n",
       "<table border=\"1\" class=\"dataframe\">\n",
       "  <thead>\n",
       "    <tr style=\"text-align: right;\">\n",
       "      <th></th>\n",
       "      <th>coffee_shop_name</th>\n",
       "      <th>full_review_text</th>\n",
       "      <th>star_rating</th>\n",
       "      <th>review_date</th>\n",
       "      <th>check_ins</th>\n",
       "    </tr>\n",
       "  </thead>\n",
       "  <tbody>\n",
       "    <tr>\n",
       "      <th>0</th>\n",
       "      <td>The Factory - Cafe With a Soul</td>\n",
       "      <td>love love loved the atmosphere! every corner o...</td>\n",
       "      <td>5</td>\n",
       "      <td>11/25/2016</td>\n",
       "      <td>1</td>\n",
       "    </tr>\n",
       "    <tr>\n",
       "      <th>1</th>\n",
       "      <td>The Factory - Cafe With a Soul</td>\n",
       "      <td>listed in date night: austin, ambiance in aust...</td>\n",
       "      <td>4</td>\n",
       "      <td>12/2/2016</td>\n",
       "      <td>0</td>\n",
       "    </tr>\n",
       "    <tr>\n",
       "      <th>2</th>\n",
       "      <td>The Factory - Cafe With a Soul</td>\n",
       "      <td>listed in brunch spots i loved the eclectic an...</td>\n",
       "      <td>4</td>\n",
       "      <td>11/30/2016</td>\n",
       "      <td>1</td>\n",
       "    </tr>\n",
       "    <tr>\n",
       "      <th>3</th>\n",
       "      <td>The Factory - Cafe With a Soul</td>\n",
       "      <td>very cool decor! good drinks nice seating howe...</td>\n",
       "      <td>2</td>\n",
       "      <td>11/25/2016</td>\n",
       "      <td>0</td>\n",
       "    </tr>\n",
       "    <tr>\n",
       "      <th>4</th>\n",
       "      <td>The Factory - Cafe With a Soul</td>\n",
       "      <td>they are located within the northcross mall sh...</td>\n",
       "      <td>4</td>\n",
       "      <td>12/3/2016</td>\n",
       "      <td>1</td>\n",
       "    </tr>\n",
       "  </tbody>\n",
       "</table>\n",
       "</div>"
      ],
      "text/plain": [
       "                  coffee_shop_name  \\\n",
       "0  The Factory - Cafe With a Soul    \n",
       "1  The Factory - Cafe With a Soul    \n",
       "2  The Factory - Cafe With a Soul    \n",
       "3  The Factory - Cafe With a Soul    \n",
       "4  The Factory - Cafe With a Soul    \n",
       "\n",
       "                                    full_review_text  star_rating review_date  \\\n",
       "0  love love loved the atmosphere! every corner o...            5  11/25/2016   \n",
       "1  listed in date night: austin, ambiance in aust...            4   12/2/2016   \n",
       "2  listed in brunch spots i loved the eclectic an...            4  11/30/2016   \n",
       "3  very cool decor! good drinks nice seating howe...            2  11/25/2016   \n",
       "4  they are located within the northcross mall sh...            4   12/3/2016   \n",
       "\n",
       "  check_ins  \n",
       "0         1  \n",
       "1         0  \n",
       "2         1  \n",
       "3         0  \n",
       "4         1  "
      ]
     },
     "execution_count": 127,
     "metadata": {},
     "output_type": "execute_result"
    }
   ],
   "source": [
    "shops = clean(shops)\n",
    "shops.head()"
   ]
  },
  {
   "cell_type": "markdown",
   "metadata": {},
   "source": [
    "## How do we want to analyze these coffee shop tokens? \n",
    "\n",
    "- Overall Word / Token Count\n",
    "- View Counts by Rating \n",
    "- *Hint:* a 'bad' coffee shops has a rating betweeen 1 & 3 based on the distribution of ratings. A 'good' coffee shop is a 4 or 5. "
   ]
  },
  {
   "cell_type": "code",
   "execution_count": 128,
   "metadata": {},
   "outputs": [
    {
     "data": {
      "text/html": [
       "<div>\n",
       "<style scoped>\n",
       "    .dataframe tbody tr th:only-of-type {\n",
       "        vertical-align: middle;\n",
       "    }\n",
       "\n",
       "    .dataframe tbody tr th {\n",
       "        vertical-align: top;\n",
       "    }\n",
       "\n",
       "    .dataframe thead th {\n",
       "        text-align: right;\n",
       "    }\n",
       "</style>\n",
       "<table border=\"1\" class=\"dataframe\">\n",
       "  <thead>\n",
       "    <tr style=\"text-align: right;\">\n",
       "      <th></th>\n",
       "      <th>coffee_shop_name</th>\n",
       "      <th>full_review_text</th>\n",
       "      <th>star_rating</th>\n",
       "      <th>review_date</th>\n",
       "      <th>check_ins</th>\n",
       "    </tr>\n",
       "  </thead>\n",
       "  <tbody>\n",
       "    <tr>\n",
       "      <th>0</th>\n",
       "      <td>The Factory - Cafe With a Soul</td>\n",
       "      <td>love love loved the atmosphere! every corner o...</td>\n",
       "      <td>good</td>\n",
       "      <td>11/25/2016</td>\n",
       "      <td>1</td>\n",
       "    </tr>\n",
       "    <tr>\n",
       "      <th>1</th>\n",
       "      <td>The Factory - Cafe With a Soul</td>\n",
       "      <td>listed in date night: austin, ambiance in aust...</td>\n",
       "      <td>good</td>\n",
       "      <td>12/2/2016</td>\n",
       "      <td>0</td>\n",
       "    </tr>\n",
       "    <tr>\n",
       "      <th>2</th>\n",
       "      <td>The Factory - Cafe With a Soul</td>\n",
       "      <td>listed in brunch spots i loved the eclectic an...</td>\n",
       "      <td>good</td>\n",
       "      <td>11/30/2016</td>\n",
       "      <td>1</td>\n",
       "    </tr>\n",
       "    <tr>\n",
       "      <th>3</th>\n",
       "      <td>The Factory - Cafe With a Soul</td>\n",
       "      <td>very cool decor! good drinks nice seating howe...</td>\n",
       "      <td>bad</td>\n",
       "      <td>11/25/2016</td>\n",
       "      <td>0</td>\n",
       "    </tr>\n",
       "    <tr>\n",
       "      <th>4</th>\n",
       "      <td>The Factory - Cafe With a Soul</td>\n",
       "      <td>they are located within the northcross mall sh...</td>\n",
       "      <td>good</td>\n",
       "      <td>12/3/2016</td>\n",
       "      <td>1</td>\n",
       "    </tr>\n",
       "  </tbody>\n",
       "</table>\n",
       "</div>"
      ],
      "text/plain": [
       "                  coffee_shop_name  \\\n",
       "0  The Factory - Cafe With a Soul    \n",
       "1  The Factory - Cafe With a Soul    \n",
       "2  The Factory - Cafe With a Soul    \n",
       "3  The Factory - Cafe With a Soul    \n",
       "4  The Factory - Cafe With a Soul    \n",
       "\n",
       "                                    full_review_text star_rating review_date  \\\n",
       "0  love love loved the atmosphere! every corner o...        good  11/25/2016   \n",
       "1  listed in date night: austin, ambiance in aust...        good   12/2/2016   \n",
       "2  listed in brunch spots i loved the eclectic an...        good  11/30/2016   \n",
       "3  very cool decor! good drinks nice seating howe...         bad  11/25/2016   \n",
       "4  they are located within the northcross mall sh...        good   12/3/2016   \n",
       "\n",
       "  check_ins  \n",
       "0         1  \n",
       "1         0  \n",
       "2         1  \n",
       "3         0  \n",
       "4         1  "
      ]
     },
     "execution_count": 128,
     "metadata": {},
     "output_type": "execute_result"
    }
   ],
   "source": [
    "shops['star_rating'] = shops['star_rating'].replace({1:'bad', 2:'bad', 3:'bad', 4:'good', 5:'good'})\n",
    "shops.head()"
   ]
  },
  {
   "cell_type": "code",
   "execution_count": 129,
   "metadata": {},
   "outputs": [],
   "source": [
    "import spacy\n",
    "from spacy.tokenizer import Tokenizer\n",
    "\n",
    "nlp = spacy.load('en_core_web_lg')\n",
    "tokenizer = Tokenizer(nlp.vocab)"
   ]
  },
  {
   "cell_type": "code",
   "execution_count": 131,
   "metadata": {},
   "outputs": [
    {
     "name": "stdout",
     "output_type": "stream",
     "text": [
      "True\n",
      "True\n"
     ]
    }
   ],
   "source": [
    "# Add words to stop words list\n",
    "nlp.vocab['shop'].is_stop = True\n",
    "nlp.vocab['listed'].is_stop = True\n",
    "print(nlp.vocab['shop'].is_stop)\n",
    "print(nlp.vocab['listed'].is_stop)"
   ]
  },
  {
   "cell_type": "code",
   "execution_count": 132,
   "metadata": {},
   "outputs": [],
   "source": [
    "# Tokenizer pipe\n",
    "tokens = []\n",
    "\n",
    "for doc in nlp.pipe(shops['full_review_text']):\n",
    "    \n",
    "    doc_tokens = []\n",
    "    \n",
    "    for token in doc:\n",
    "        if (token.is_stop == False) & (token.is_punct == False):\n",
    "            doc_tokens.append(token.text.lower())\n",
    "            \n",
    "    tokens.append(doc_tokens)\n",
    "    \n",
    "shops['tokens'] = tokens"
   ]
  },
  {
   "cell_type": "code",
   "execution_count": 133,
   "metadata": {},
   "outputs": [
    {
     "data": {
      "text/plain": [
       "(7616, 6)"
      ]
     },
     "execution_count": 133,
     "metadata": {},
     "output_type": "execute_result"
    }
   ],
   "source": [
    "shops.shape"
   ]
  },
  {
   "cell_type": "code",
   "execution_count": 134,
   "metadata": {},
   "outputs": [],
   "source": [
    "# Run lemmatization on the tokens\n",
    "shops['lemmas'] = shops['full_review_text'].apply(lambda text:\n",
    "                                                 [x.lemma_ for x in nlp(text.lower())\n",
    "                                                 if (x.is_stop == False and x.is_punct == False)\n",
    "                                                 and x.pos_ != \"-PRON-\"])"
   ]
  },
  {
   "cell_type": "code",
   "execution_count": 135,
   "metadata": {},
   "outputs": [
    {
     "data": {
      "text/html": [
       "<div>\n",
       "<style scoped>\n",
       "    .dataframe tbody tr th:only-of-type {\n",
       "        vertical-align: middle;\n",
       "    }\n",
       "\n",
       "    .dataframe tbody tr th {\n",
       "        vertical-align: top;\n",
       "    }\n",
       "\n",
       "    .dataframe thead th {\n",
       "        text-align: right;\n",
       "    }\n",
       "</style>\n",
       "<table border=\"1\" class=\"dataframe\">\n",
       "  <thead>\n",
       "    <tr style=\"text-align: right;\">\n",
       "      <th></th>\n",
       "      <th>coffee_shop_name</th>\n",
       "      <th>full_review_text</th>\n",
       "      <th>star_rating</th>\n",
       "      <th>review_date</th>\n",
       "      <th>check_ins</th>\n",
       "      <th>tokens</th>\n",
       "      <th>lemmas</th>\n",
       "    </tr>\n",
       "  </thead>\n",
       "  <tbody>\n",
       "    <tr>\n",
       "      <th>0</th>\n",
       "      <td>The Factory - Cafe With a Soul</td>\n",
       "      <td>love love loved the atmosphere! every corner o...</td>\n",
       "      <td>good</td>\n",
       "      <td>11/25/2016</td>\n",
       "      <td>1</td>\n",
       "      <td>[love, love, loved, atmosphere, corner, coffee...</td>\n",
       "      <td>[love, love, love, atmosphere, corner, coffee,...</td>\n",
       "    </tr>\n",
       "    <tr>\n",
       "      <th>1</th>\n",
       "      <td>The Factory - Cafe With a Soul</td>\n",
       "      <td>listed in date night: austin, ambiance in aust...</td>\n",
       "      <td>good</td>\n",
       "      <td>12/2/2016</td>\n",
       "      <td>0</td>\n",
       "      <td>[date, night, austin, ambiance, austin, beauti...</td>\n",
       "      <td>[date, night, austin, ambiance, austin, beauti...</td>\n",
       "    </tr>\n",
       "    <tr>\n",
       "      <th>2</th>\n",
       "      <td>The Factory - Cafe With a Soul</td>\n",
       "      <td>listed in brunch spots i loved the eclectic an...</td>\n",
       "      <td>good</td>\n",
       "      <td>11/30/2016</td>\n",
       "      <td>1</td>\n",
       "      <td>[brunch, spots, loved, eclectic, homey, plush,...</td>\n",
       "      <td>[brunch, spot, love, eclectic, homey, plush, d...</td>\n",
       "    </tr>\n",
       "    <tr>\n",
       "      <th>3</th>\n",
       "      <td>The Factory - Cafe With a Soul</td>\n",
       "      <td>very cool decor! good drinks nice seating howe...</td>\n",
       "      <td>bad</td>\n",
       "      <td>11/25/2016</td>\n",
       "      <td>0</td>\n",
       "      <td>[cool, decor, good, drinks, nice, seating, ove...</td>\n",
       "      <td>[cool, decor, good, drink, nice, seating, over...</td>\n",
       "    </tr>\n",
       "    <tr>\n",
       "      <th>4</th>\n",
       "      <td>The Factory - Cafe With a Soul</td>\n",
       "      <td>they are located within the northcross mall sh...</td>\n",
       "      <td>good</td>\n",
       "      <td>12/3/2016</td>\n",
       "      <td>1</td>\n",
       "      <td>[located, northcross, mall, shopping, center, ...</td>\n",
       "      <td>[locate, northcross, mall, shopping, center, f...</td>\n",
       "    </tr>\n",
       "  </tbody>\n",
       "</table>\n",
       "</div>"
      ],
      "text/plain": [
       "                  coffee_shop_name  \\\n",
       "0  The Factory - Cafe With a Soul    \n",
       "1  The Factory - Cafe With a Soul    \n",
       "2  The Factory - Cafe With a Soul    \n",
       "3  The Factory - Cafe With a Soul    \n",
       "4  The Factory - Cafe With a Soul    \n",
       "\n",
       "                                    full_review_text star_rating review_date  \\\n",
       "0  love love loved the atmosphere! every corner o...        good  11/25/2016   \n",
       "1  listed in date night: austin, ambiance in aust...        good   12/2/2016   \n",
       "2  listed in brunch spots i loved the eclectic an...        good  11/30/2016   \n",
       "3  very cool decor! good drinks nice seating howe...         bad  11/25/2016   \n",
       "4  they are located within the northcross mall sh...        good   12/3/2016   \n",
       "\n",
       "  check_ins                                             tokens  \\\n",
       "0         1  [love, love, loved, atmosphere, corner, coffee...   \n",
       "1         0  [date, night, austin, ambiance, austin, beauti...   \n",
       "2         1  [brunch, spots, loved, eclectic, homey, plush,...   \n",
       "3         0  [cool, decor, good, drinks, nice, seating, ove...   \n",
       "4         1  [located, northcross, mall, shopping, center, ...   \n",
       "\n",
       "                                              lemmas  \n",
       "0  [love, love, love, atmosphere, corner, coffee,...  \n",
       "1  [date, night, austin, ambiance, austin, beauti...  \n",
       "2  [brunch, spot, love, eclectic, homey, plush, d...  \n",
       "3  [cool, decor, good, drink, nice, seating, over...  \n",
       "4  [locate, northcross, mall, shopping, center, f...  "
      ]
     },
     "execution_count": 135,
     "metadata": {},
     "output_type": "execute_result"
    }
   ],
   "source": [
    "shops.head()"
   ]
  },
  {
   "cell_type": "code",
   "execution_count": 136,
   "metadata": {},
   "outputs": [],
   "source": [
    "from collections import Counter\n",
    "\n",
    "def count(docs):\n",
    "    \"\"\"Function to find word counts within a document\"\"\"\n",
    "    word_counts = Counter()\n",
    "    appears_in = Counter()\n",
    "    \n",
    "    total_docs = len(docs)\n",
    "    \n",
    "    for doc in docs:\n",
    "        word_counts.update(doc)\n",
    "        appears_in.update(set(doc))\n",
    "        \n",
    "    temp = zip(word_counts.keys(), word_counts.values())\n",
    "    \n",
    "    wc = pd.DataFrame(temp, columns=['word', 'count'])\n",
    "    \n",
    "    wc['rank'] = wc['count'].rank(method='first', ascending=False)\n",
    "    total = wc['count'].sum()\n",
    "    \n",
    "    wc['pct_total'] = wc['count'].apply(lambda x: x / total)\n",
    "    \n",
    "    wc = wc.sort_values(by='rank')\n",
    "    wc['cul_pct_total'] = wc['pct_total'].cumsum()\n",
    "    \n",
    "    t2 = zip(appears_in.keys(), appears_in.values())\n",
    "    ac = pd.DataFrame(t2, columns=['word', 'appears_in'])\n",
    "    wc = ac.merge(wc, on='word')\n",
    "    \n",
    "    wc['appears_in_pct'] = wc['appears_in'].apply(lambda x: x / total_docs)\n",
    "    \n",
    "    return wc.sort_values(by='rank')"
   ]
  },
  {
   "cell_type": "code",
   "execution_count": 137,
   "metadata": {},
   "outputs": [],
   "source": [
    "wc = count(shops['lemmas'])"
   ]
  },
  {
   "cell_type": "code",
   "execution_count": 138,
   "metadata": {},
   "outputs": [
    {
     "data": {
      "text/html": [
       "<div>\n",
       "<style scoped>\n",
       "    .dataframe tbody tr th:only-of-type {\n",
       "        vertical-align: middle;\n",
       "    }\n",
       "\n",
       "    .dataframe tbody tr th {\n",
       "        vertical-align: top;\n",
       "    }\n",
       "\n",
       "    .dataframe thead th {\n",
       "        text-align: right;\n",
       "    }\n",
       "</style>\n",
       "<table border=\"1\" class=\"dataframe\">\n",
       "  <thead>\n",
       "    <tr style=\"text-align: right;\">\n",
       "      <th></th>\n",
       "      <th>word</th>\n",
       "      <th>appears_in</th>\n",
       "      <th>count</th>\n",
       "      <th>rank</th>\n",
       "      <th>pct_total</th>\n",
       "      <th>cul_pct_total</th>\n",
       "      <th>appears_in_pct</th>\n",
       "    </tr>\n",
       "  </thead>\n",
       "  <tbody>\n",
       "    <tr>\n",
       "      <th>14503</th>\n",
       "      <td>4people</td>\n",
       "      <td>1</td>\n",
       "      <td>1</td>\n",
       "      <td>14509.0</td>\n",
       "      <td>0.000003</td>\n",
       "      <td>0.999974</td>\n",
       "      <td>0.000131</td>\n",
       "    </tr>\n",
       "    <tr>\n",
       "      <th>14509</th>\n",
       "      <td>uneventful</td>\n",
       "      <td>1</td>\n",
       "      <td>1</td>\n",
       "      <td>14510.0</td>\n",
       "      <td>0.000003</td>\n",
       "      <td>0.999977</td>\n",
       "      <td>0.000131</td>\n",
       "    </tr>\n",
       "    <tr>\n",
       "      <th>14507</th>\n",
       "      <td>fried</td>\n",
       "      <td>1</td>\n",
       "      <td>1</td>\n",
       "      <td>14511.0</td>\n",
       "      <td>0.000003</td>\n",
       "      <td>0.999980</td>\n",
       "      <td>0.000131</td>\n",
       "    </tr>\n",
       "    <tr>\n",
       "      <th>14508</th>\n",
       "      <td>tasted</td>\n",
       "      <td>1</td>\n",
       "      <td>1</td>\n",
       "      <td>14512.0</td>\n",
       "      <td>0.000003</td>\n",
       "      <td>0.999983</td>\n",
       "      <td>0.000131</td>\n",
       "    </tr>\n",
       "    <tr>\n",
       "      <th>14511</th>\n",
       "      <td>romaine</td>\n",
       "      <td>1</td>\n",
       "      <td>1</td>\n",
       "      <td>14513.0</td>\n",
       "      <td>0.000003</td>\n",
       "      <td>0.999986</td>\n",
       "      <td>0.000131</td>\n",
       "    </tr>\n",
       "    <tr>\n",
       "      <th>14512</th>\n",
       "      <td>predictably</td>\n",
       "      <td>1</td>\n",
       "      <td>1</td>\n",
       "      <td>14514.0</td>\n",
       "      <td>0.000003</td>\n",
       "      <td>0.999989</td>\n",
       "      <td>0.000131</td>\n",
       "    </tr>\n",
       "    <tr>\n",
       "      <th>14513</th>\n",
       "      <td>windowed</td>\n",
       "      <td>1</td>\n",
       "      <td>1</td>\n",
       "      <td>14515.0</td>\n",
       "      <td>0.000003</td>\n",
       "      <td>0.999991</td>\n",
       "      <td>0.000131</td>\n",
       "    </tr>\n",
       "    <tr>\n",
       "      <th>14515</th>\n",
       "      <td>actuality</td>\n",
       "      <td>1</td>\n",
       "      <td>1</td>\n",
       "      <td>14516.0</td>\n",
       "      <td>0.000003</td>\n",
       "      <td>0.999994</td>\n",
       "      <td>0.000131</td>\n",
       "    </tr>\n",
       "    <tr>\n",
       "      <th>14514</th>\n",
       "      <td>crass</td>\n",
       "      <td>1</td>\n",
       "      <td>1</td>\n",
       "      <td>14517.0</td>\n",
       "      <td>0.000003</td>\n",
       "      <td>0.999997</td>\n",
       "      <td>0.000131</td>\n",
       "    </tr>\n",
       "    <tr>\n",
       "      <th>14516</th>\n",
       "      <td>digestion</td>\n",
       "      <td>1</td>\n",
       "      <td>1</td>\n",
       "      <td>14518.0</td>\n",
       "      <td>0.000003</td>\n",
       "      <td>1.000000</td>\n",
       "      <td>0.000131</td>\n",
       "    </tr>\n",
       "  </tbody>\n",
       "</table>\n",
       "</div>"
      ],
      "text/plain": [
       "              word  appears_in  count     rank  pct_total  cul_pct_total  \\\n",
       "14503      4people           1      1  14509.0   0.000003       0.999974   \n",
       "14509   uneventful           1      1  14510.0   0.000003       0.999977   \n",
       "14507        fried           1      1  14511.0   0.000003       0.999980   \n",
       "14508       tasted           1      1  14512.0   0.000003       0.999983   \n",
       "14511      romaine           1      1  14513.0   0.000003       0.999986   \n",
       "14512  predictably           1      1  14514.0   0.000003       0.999989   \n",
       "14513     windowed           1      1  14515.0   0.000003       0.999991   \n",
       "14515    actuality           1      1  14516.0   0.000003       0.999994   \n",
       "14514        crass           1      1  14517.0   0.000003       0.999997   \n",
       "14516    digestion           1      1  14518.0   0.000003       1.000000   \n",
       "\n",
       "       appears_in_pct  \n",
       "14503        0.000131  \n",
       "14509        0.000131  \n",
       "14507        0.000131  \n",
       "14508        0.000131  \n",
       "14511        0.000131  \n",
       "14512        0.000131  \n",
       "14513        0.000131  \n",
       "14515        0.000131  \n",
       "14514        0.000131  \n",
       "14516        0.000131  "
      ]
     },
     "execution_count": 138,
     "metadata": {},
     "output_type": "execute_result"
    }
   ],
   "source": [
    "wc.tail(10)"
   ]
  },
  {
   "cell_type": "code",
   "execution_count": 140,
   "metadata": {},
   "outputs": [
    {
     "data": {
      "image/png": "[encoded data removed]",
      "text/plain": [
       "<Figure size 432x288 with 1 Axes>"
      ]
     },
     "metadata": {
      "needs_background": "light"
     },
     "output_type": "display_data"
    }
   ],
   "source": [
    "import numpy as np\n",
    "import seaborn as sns\n",
    "\n",
    "# Frequency of appears in documents\n",
    "sns.distplot(np.array(wc['appears_in_pct']));"
   ]
  },
  {
   "cell_type": "code",
   "execution_count": 141,
   "metadata": {},
   "outputs": [
    {
     "data": {
      "text/plain": [
       "count    14518.000000\n",
       "mean         0.002678\n",
       "std          0.014356\n",
       "min          0.000131\n",
       "25%          0.000131\n",
       "50%          0.000263\n",
       "75%          0.000788\n",
       "max          0.650341\n",
       "Name: appears_in_pct, dtype: float64"
      ]
     },
     "execution_count": 141,
     "metadata": {},
     "output_type": "execute_result"
    }
   ],
   "source": [
    "wc['appears_in_pct'].describe()"
   ]
  },
  {
   "cell_type": "code",
   "execution_count": 142,
   "metadata": {},
   "outputs": [
    {
     "data": {
      "text/plain": [
       "(14518, 7)"
      ]
     },
     "execution_count": 142,
     "metadata": {},
     "output_type": "execute_result"
    }
   ],
   "source": [
    "wc.shape"
   ]
  },
  {
   "cell_type": "code",
   "execution_count": 143,
   "metadata": {},
   "outputs": [
    {
     "data": {
      "text/plain": [
       "(1878, 7)"
      ]
     },
     "execution_count": 143,
     "metadata": {},
     "output_type": "execute_result"
    }
   ],
   "source": [
    "# Statistical trimming\n",
    "wc = wc[wc['appears_in_pct'] >= 0.0025]\n",
    "wc.shape"
   ]
  },
  {
   "cell_type": "code",
   "execution_count": 144,
   "metadata": {},
   "outputs": [
    {
     "data": {
      "text/html": [
       "<div>\n",
       "<style scoped>\n",
       "    .dataframe tbody tr th:only-of-type {\n",
       "        vertical-align: middle;\n",
       "    }\n",
       "\n",
       "    .dataframe tbody tr th {\n",
       "        vertical-align: top;\n",
       "    }\n",
       "\n",
       "    .dataframe thead th {\n",
       "        text-align: right;\n",
       "    }\n",
       "</style>\n",
       "<table border=\"1\" class=\"dataframe\">\n",
       "  <thead>\n",
       "    <tr style=\"text-align: right;\">\n",
       "      <th></th>\n",
       "      <th>word</th>\n",
       "      <th>appears_in</th>\n",
       "      <th>count</th>\n",
       "      <th>rank</th>\n",
       "      <th>pct_total</th>\n",
       "      <th>cul_pct_total</th>\n",
       "      <th>appears_in_pct</th>\n",
       "    </tr>\n",
       "  </thead>\n",
       "  <tbody>\n",
       "    <tr>\n",
       "      <th>4619</th>\n",
       "      <td>beard</td>\n",
       "      <td>20</td>\n",
       "      <td>25</td>\n",
       "      <td>1730.0</td>\n",
       "      <td>0.000071</td>\n",
       "      <td>0.870029</td>\n",
       "      <td>0.002626</td>\n",
       "    </tr>\n",
       "    <tr>\n",
       "      <th>4611</th>\n",
       "      <td>hibiscus</td>\n",
       "      <td>20</td>\n",
       "      <td>25</td>\n",
       "      <td>1729.0</td>\n",
       "      <td>0.000071</td>\n",
       "      <td>0.869958</td>\n",
       "      <td>0.002626</td>\n",
       "    </tr>\n",
       "    <tr>\n",
       "      <th>3536</th>\n",
       "      <td>farmer</td>\n",
       "      <td>20</td>\n",
       "      <td>21</td>\n",
       "      <td>1892.0</td>\n",
       "      <td>0.000060</td>\n",
       "      <td>0.880422</td>\n",
       "      <td>0.002626</td>\n",
       "    </tr>\n",
       "    <tr>\n",
       "      <th>3633</th>\n",
       "      <td>collection</td>\n",
       "      <td>20</td>\n",
       "      <td>21</td>\n",
       "      <td>1893.0</td>\n",
       "      <td>0.000060</td>\n",
       "      <td>0.880482</td>\n",
       "      <td>0.002626</td>\n",
       "    </tr>\n",
       "    <tr>\n",
       "      <th>8884</th>\n",
       "      <td>bed</td>\n",
       "      <td>20</td>\n",
       "      <td>20</td>\n",
       "      <td>1969.0</td>\n",
       "      <td>0.000057</td>\n",
       "      <td>0.884835</td>\n",
       "      <td>0.002626</td>\n",
       "    </tr>\n",
       "  </tbody>\n",
       "</table>\n",
       "</div>"
      ],
      "text/plain": [
       "            word  appears_in  count    rank  pct_total  cul_pct_total  \\\n",
       "4619       beard          20     25  1730.0   0.000071       0.870029   \n",
       "4611    hibiscus          20     25  1729.0   0.000071       0.869958   \n",
       "3536      farmer          20     21  1892.0   0.000060       0.880422   \n",
       "3633  collection          20     21  1893.0   0.000060       0.880482   \n",
       "8884         bed          20     20  1969.0   0.000057       0.884835   \n",
       "\n",
       "      appears_in_pct  \n",
       "4619        0.002626  \n",
       "4611        0.002626  \n",
       "3536        0.002626  \n",
       "3633        0.002626  \n",
       "8884        0.002626  "
      ]
     },
     "execution_count": 144,
     "metadata": {},
     "output_type": "execute_result"
    }
   ],
   "source": [
    "wc.sort_values(by='appears_in', ascending=False).tail()"
   ]
  },
  {
   "cell_type": "code",
   "execution_count": 146,
   "metadata": {},
   "outputs": [
    {
     "data": {
      "image/png": "[encoded data removed]",
      "text/plain": [
       "<Figure size 432x288 with 1 Axes>"
      ]
     },
     "metadata": {
      "needs_background": "light"
     },
     "output_type": "display_data"
    }
   ],
   "source": [
    "sns.distplot(np.array(wc['appears_in_pct']));"
   ]
  },
  {
   "cell_type": "code",
   "execution_count": 147,
   "metadata": {},
   "outputs": [],
   "source": [
    "%matplotlib inline\n",
    "import matplotlib.pyplot as plt\n",
    "import squarify"
   ]
  },
  {
   "cell_type": "code",
   "execution_count": 148,
   "metadata": {},
   "outputs": [],
   "source": [
    "# top 20 words found in reviews\n",
    "top_20 = wc[wc['rank'] <= 20]"
   ]
  },
  {
   "cell_type": "code",
   "execution_count": 149,
   "metadata": {},
   "outputs": [
    {
     "data": {
      "image/png": "[encoded data removed]",
      "text/plain": [
       "<Figure size 432x288 with 1 Axes>"
      ]
     },
     "metadata": {
      "needs_background": "light"
     },
     "output_type": "display_data"
    }
   ],
   "source": [
    "# Visualize top 20 words\n",
    "squarify.plot(sizes=top_20['pct_total'], label=top_20['word'], alpha=0.7)\n",
    "plt.title('Top 20 words found in reviews')\n",
    "plt.axis('off')\n",
    "plt.show()"
   ]
  },
  {
   "cell_type": "markdown",
   "metadata": {},
   "source": [
    "## Can visualize the words with the greatest difference in counts between 'good' & 'bad'?\n",
    "\n",
    "Couple Notes: \n",
    "- Rel. freq. instead of absolute counts b/c of different numbers of reviews\n",
    "- Only look at the top 5-10 words with the greatest differences\n"
   ]
  },
  {
   "cell_type": "code",
   "execution_count": 153,
   "metadata": {},
   "outputs": [],
   "source": [
    "# Separate good reviews from bad reviews\n",
    "good_wc = count(shops[shops['star_rating'] == 'good']['lemmas'])\n",
    "bad_wc = count(shops[shops['star_rating'] == 'bad']['lemmas'])"
   ]
  },
  {
   "cell_type": "code",
   "execution_count": 154,
   "metadata": {},
   "outputs": [],
   "source": [
    "# Get top 10 words used in good reviews\n",
    "good_wc_10 = good_wc[good_wc['rank'] <= 10]\n",
    "\n",
    "# Get top 10 words used in bad reviews\n",
    "bad_wc_10 = bad_wc[bad_wc['rank'] <= 10]"
   ]
  },
  {
   "cell_type": "code",
   "execution_count": 155,
   "metadata": {},
   "outputs": [
    {
     "data": {
      "image/png": "[encoded data removed]",
      "text/plain": [
       "<Figure size 432x288 with 1 Axes>"
      ]
     },
     "metadata": {
      "needs_background": "light"
     },
     "output_type": "display_data"
    }
   ],
   "source": [
    "# Plot top 10 words for good reviews\n",
    "squarify.plot(sizes=good_wc_10['pct_total'], label=good_wc_10['word'], alpha=0.7)\n",
    "plt.title('Top 10 words found in good reviews')\n",
    "plt.axis('off')\n",
    "plt.show()"
   ]
  },
  {
   "cell_type": "code",
   "execution_count": 156,
   "metadata": {},
   "outputs": [
    {
     "data": {
      "image/png": "[encoded data removed]",
      "text/plain": [
       "<Figure size 432x288 with 1 Axes>"
      ]
     },
     "metadata": {
      "needs_background": "light"
     },
     "output_type": "display_data"
    }
   ],
   "source": [
    "# Plot top 10 words for bad reviews\n",
    "squarify.plot(sizes=bad_wc_10['pct_total'], label=bad_wc_10['word'], alpha=0.7)\n",
    "plt.title('Top 10 words found in bad reviews')\n",
    "plt.axis('off')\n",
    "plt.show()"
   ]
  },
  {
   "cell_type": "markdown",
   "metadata": {
    "colab_type": "text",
    "id": "1dCb1q8XphcP",
    "toc-hr-collapsed": true
   },
   "source": [
    "## Stretch Goals\n",
    "\n",
    "* Analyze another corpus of documents - such as Indeed.com job listings ;).\n",
    "* Play the the Spacy API to\n",
    " - Extract Named Entities\n",
    " - Extracting 'noun chunks'\n",
    " - Attempt Document Classification with just Spacy\n",
    " - *Note:* This [course](https://course.spacy.io/) will be of interesting in helping you with these stretch goals. \n",
    "* Try to build a plotly dash app with your text data \n",
    "\n"
   ]
  }
 ],
 "metadata": {
  "colab": {
   "collapsed_sections": [],
   "name": "LS_DS_421_Text_Data_Assignment.ipynb",
   "provenance": [],
   "version": "0.3.2"
  },
  "kernelspec": {
   "display_name": "u4_s1_nlp",
   "language": "python",
   "name": "u4_s1_nlp"
  },
  "language_info": {
   "codemirror_mode": {
    "name": "ipython",
    "version": 3
   },
   "file_extension": ".py",
   "mimetype": "text/x-python",
   "name": "python",
   "nbconvert_exporter": "python",
   "pygments_lexer": "ipython3",
   "version": "3.7.3"
  },
  "toc-autonumbering": false
 },
 "nbformat": 4,
 "nbformat_minor": 2
}
